{
 "cells": [
  {
   "cell_type": "markdown",
   "metadata": {},
   "source": [
    "## Decorators\n",
    "They are a powerfull and flexible method feature in Python that allows you to modify the behaviour of a function or class method.\n",
    "\n",
    "The behaviour of a function or class method they are commonly used to add functionality to functions or methods without modifing their actual code.\n"
   ]
  },
  {
   "cell_type": "code",
   "execution_count": 1,
   "metadata": {},
   "outputs": [],
   "source": [
    "### Function copy\n",
    "### Closures\n",
    "### Decoraters"
   ]
  },
  {
   "cell_type": "code",
   "execution_count": 2,
   "metadata": {},
   "outputs": [],
   "source": [
    "## function copy\n",
    "def welcome():\n",
    "    return \"Welcome to advance python programming\""
   ]
  },
  {
   "cell_type": "code",
   "execution_count": 8,
   "metadata": {},
   "outputs": [
    {
     "data": {
      "text/plain": [
       "True"
      ]
     },
     "execution_count": 8,
     "metadata": {},
     "output_type": "execute_result"
    }
   ],
   "source": [
    "welcome_1=welcome\n",
    "id(welcome)==id(welcome_1)"
   ]
  },
  {
   "cell_type": "code",
   "execution_count": 18,
   "metadata": {},
   "outputs": [
    {
     "name": "stdout",
     "output_type": "stream",
     "text": [
      "Welcome to advance python programming\n",
      "Welcome to advance python programming\n"
     ]
    }
   ],
   "source": [
    "wel=welcome\n",
    "print(wel())\n",
    "del welcome\n",
    "print(wel())"
   ]
  },
  {
   "cell_type": "code",
   "execution_count": 26,
   "metadata": {},
   "outputs": [],
   "source": [
    "## Closures\n",
    "## Functions inside functions\n",
    "def main_welcome(msg):\n",
    "    def sub_welcome():\n",
    "        print('Welcome to advance to advance python course')\n",
    "        print(msg)\n",
    "        print('Please learn this concepts properly')\n",
    "    return sub_welcome()\n"
   ]
  },
  {
   "cell_type": "code",
   "execution_count": 27,
   "metadata": {},
   "outputs": [
    {
     "name": "stdout",
     "output_type": "stream",
     "text": [
      "Welcome to advance to advance python course\n",
      "Data from\n",
      "Please learn this concepts properly\n"
     ]
    }
   ],
   "source": [
    "main_welcome(\"Data from\")"
   ]
  },
  {
   "cell_type": "code",
   "execution_count": 38,
   "metadata": {},
   "outputs": [],
   "source": [
    "def main_welcome(func):\n",
    "    def sub_welcome():\n",
    "        print('Welcome to advance to advance python course')\n",
    "        func(\"Function from print\")\n",
    "        print('Please learn this concepts properly')\n",
    "    return sub_welcome()"
   ]
  },
  {
   "cell_type": "code",
   "execution_count": 39,
   "metadata": {},
   "outputs": [
    {
     "name": "stdout",
     "output_type": "stream",
     "text": [
      "Welcome to advance to advance python course\n",
      "Function from print\n",
      "Please learn this concepts properly\n"
     ]
    }
   ],
   "source": [
    "main_welcome(print)"
   ]
  },
  {
   "cell_type": "code",
   "execution_count": 9,
   "metadata": {},
   "outputs": [
    {
     "name": "stdout",
     "output_type": "stream",
     "text": [
      "Ram from outer\n",
      "Ram function with inner\n"
     ]
    }
   ],
   "source": [
    "## Using some function\n",
    "\n",
    "def function_outer(n):\n",
    "    print(f\"{n} from outer\")\n",
    "\n",
    "def function_with_inner(n):\n",
    "    function_outer(n)\n",
    "    print(n,\"function with inner\")\n",
    "\n",
    "function_with_inner(\"Ram\")"
   ]
  },
  {
   "cell_type": "code",
   "execution_count": 10,
   "metadata": {},
   "outputs": [
    {
     "data": {
      "text/plain": [
       "[1, 2, 3, 4, 5]"
      ]
     },
     "execution_count": 10,
     "metadata": {},
     "output_type": "execute_result"
    }
   ],
   "source": [
    "## List func creator\n",
    "\n",
    "\n",
    "def function_list(b_f,values):\n",
    "    return b_f(values)\n",
    "\n",
    "function_list(list,(1,2,3,4,5))"
   ]
  },
  {
   "cell_type": "code",
   "execution_count": 51,
   "metadata": {},
   "outputs": [],
   "source": [
    "def main_welcome(func,lst):\n",
    "    def sub_welcome():\n",
    "        print('Welcome to advance to advance python course')\n",
    "        print(func(lst))\n",
    "        print('Please learn this concepts properly')\n",
    "    return sub_welcome()\n"
   ]
  },
  {
   "cell_type": "code",
   "execution_count": 52,
   "metadata": {},
   "outputs": [
    {
     "name": "stdout",
     "output_type": "stream",
     "text": [
      "Welcome to advance to advance python course\n",
      "3\n",
      "Please learn this concepts properly\n"
     ]
    }
   ],
   "source": [
    "main_welcome(len,[1,2,3])"
   ]
  },
  {
   "cell_type": "code",
   "execution_count": 53,
   "metadata": {},
   "outputs": [],
   "source": [
    "### Decorators\n",
    "\n",
    "def main_welcome(func):\n",
    "    def sub_welcome():\n",
    "        print('Welcome to advance to advance python course')\n",
    "        func()\n",
    "        print('Please learn this concepts properly')\n",
    "    return sub_welcome()"
   ]
  },
  {
   "cell_type": "code",
   "execution_count": 54,
   "metadata": {},
   "outputs": [
    {
     "name": "stdout",
     "output_type": "stream",
     "text": [
      "Welcome to advance to advance python course\n",
      "Course intro.....\n",
      "Please learn this concepts properly\n"
     ]
    }
   ],
   "source": [
    "def course_intro():\n",
    "    print(\"Course intro.....\")\n",
    "main_welcome(course_intro)"
   ]
  },
  {
   "cell_type": "code",
   "execution_count": 55,
   "metadata": {},
   "outputs": [
    {
     "name": "stdout",
     "output_type": "stream",
     "text": [
      "Welcome to advance to advance python course\n",
      "Kesavan..\n",
      "Please learn this concepts properly\n"
     ]
    }
   ],
   "source": [
    "@main_welcome\n",
    "def iam_():\n",
    "    print(\"Kesavan..\")"
   ]
  },
  {
   "cell_type": "code",
   "execution_count": 56,
   "metadata": {},
   "outputs": [],
   "source": [
    "def wrapper_func(func):\n",
    "    print(\"Before decorator\")\n",
    "    func()\n",
    "    print(\"Before decorator\")"
   ]
  },
  {
   "cell_type": "code",
   "execution_count": 57,
   "metadata": {},
   "outputs": [
    {
     "name": "stdout",
     "output_type": "stream",
     "text": [
      "Before decorator\n",
      "Decorator\n",
      "Before decorator\n"
     ]
    }
   ],
   "source": [
    "@wrapper_func\n",
    "def inclusion():\n",
    "    print(\"Decorator\")"
   ]
  },
  {
   "cell_type": "code",
   "execution_count": 58,
   "metadata": {},
   "outputs": [],
   "source": [
    "## Decorators with arguments\n",
    "def wrapper_func(n):\n",
    "    def decorator(func):\n",
    "        for _ in range(n):\n",
    "            func()\n",
    "    return decorator"
   ]
  },
  {
   "cell_type": "code",
   "execution_count": 60,
   "metadata": {},
   "outputs": [
    {
     "name": "stdout",
     "output_type": "stream",
     "text": [
      "hello\n",
      "hello\n",
      "hello\n"
     ]
    }
   ],
   "source": [
    "@wrapper_func(3)\n",
    "def print_me():\n",
    "    print(\"hello\")"
   ]
  },
  {
   "cell_type": "code",
   "execution_count": null,
   "metadata": {},
   "outputs": [],
   "source": [
    "## With decorators\n",
    "\n",
    "def print_func(n):\n",
    "    for i in range(n):\n",
    "        print(n)\n",
    "\n",
    "@print_func\n",
    "def "
   ]
  }
 ],
 "metadata": {
  "kernelspec": {
   "display_name": "mlops_folder_udemy",
   "language": "python",
   "name": "python3"
  },
  "language_info": {
   "codemirror_mode": {
    "name": "ipython",
    "version": 3
   },
   "file_extension": ".py",
   "mimetype": "text/x-python",
   "name": "python",
   "nbconvert_exporter": "python",
   "pygments_lexer": "ipython3",
   "version": "3.12.3"
  }
 },
 "nbformat": 4,
 "nbformat_minor": 2
}
