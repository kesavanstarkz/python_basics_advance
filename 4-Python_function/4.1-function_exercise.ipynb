{
 "cells": [
  {
   "cell_type": "markdown",
   "metadata": {},
   "source": [
    "## Function Examples"
   ]
  },
  {
   "cell_type": "code",
   "execution_count": 1,
   "metadata": {},
   "outputs": [],
   "source": [
    "## Temperature convertions\n",
    "\n",
    "def convert_temperature(temp,unit):\n",
    "    \"\"\"This func converts temp between celcius and fahrenheit\"\"\"\n",
    "    if unit.lower()==\"c\":\n",
    "        return temp*9/5 +32 ## celcius to fahrenheit\n",
    "    elif unit.lower()==\"f\":\n",
    "        return (temp-32)*5/9\n",
    "    else:\n",
    "        return None"
   ]
  },
  {
   "cell_type": "code",
   "execution_count": 4,
   "metadata": {},
   "outputs": [
    {
     "data": {
      "text/plain": [
       "(77.0, 25.0)"
      ]
     },
     "execution_count": 4,
     "metadata": {},
     "output_type": "execute_result"
    }
   ],
   "source": [
    "convert_temperature(25,\"c\"),convert_temperature(77,\"f\")"
   ]
  },
  {
   "cell_type": "code",
   "execution_count": 14,
   "metadata": {},
   "outputs": [],
   "source": [
    "## Password strength checker\n",
    "def is_strong_password(password):\n",
    "    \"\"\"This func checks if the password is strong\"\"\"\n",
    "    if len(password)<8:\n",
    "        return False\n",
    "    if not any(char.isdigit() for char in password):\n",
    "        return False\n",
    "    if not any(char.islower() for char in password):\n",
    "        return False\n",
    "    if not any(char.isupper() for char in password):\n",
    "        return False\n",
    "    if not any(char in \"!@#$%^&*()_+\" for char in password):\n",
    "        return False\n",
    "    \n",
    "    return True"
   ]
  },
  {
   "cell_type": "code",
   "execution_count": 15,
   "metadata": {},
   "outputs": [
    {
     "data": {
      "text/plain": [
       "True"
      ]
     },
     "execution_count": 15,
     "metadata": {},
     "output_type": "execute_result"
    }
   ],
   "source": [
    "is_strong_password(\"$tr0A_#ak\")"
   ]
  },
  {
   "cell_type": "code",
   "execution_count": 9,
   "metadata": {},
   "outputs": [
    {
     "data": {
      "text/plain": [
       "True"
      ]
     },
     "execution_count": 9,
     "metadata": {},
     "output_type": "execute_result"
    }
   ],
   "source": [
    "not any(i%2==0 for i in [1,3,3])"
   ]
  },
  {
   "cell_type": "code",
   "execution_count": 16,
   "metadata": {},
   "outputs": [
    {
     "name": "stdout",
     "output_type": "stream",
     "text": [
      "Total amount:36840\n"
     ]
    }
   ],
   "source": [
    "## Calculate total cost of items in shopping cart\n",
    "\n",
    "\n",
    "cart_product=[\n",
    "    {\"Kodak\":17500},\n",
    "    {\"Realme\":19000},\n",
    "    {\"Mobile stand\":90},\n",
    "    {\"Usb\":150},\n",
    "    {\"Ear buds\":100}\n",
    "]\n",
    "\n",
    "\n",
    "def find_total_cost(cart_product):\n",
    "    total_price=0\n",
    "    for cart in cart_product:\n",
    "        for product,price in cart.items():\n",
    "            # print(product,price)\n",
    "            total_price=total_price+price\n",
    "\n",
    "    return f\"Total amount:{total_price}\"\n",
    "print(find_total_cost(cart_product))\n"
   ]
  },
  {
   "cell_type": "code",
   "execution_count": 47,
   "metadata": {},
   "outputs": [
    {
     "name": "stdout",
     "output_type": "stream",
     "text": [
      "name:Kodak\n",
      "price:17500\n",
      "Quantity:1\n",
      "name:Realme\n",
      "price:19000\n",
      "Quantity:3\n",
      "name:Mobile stand\n",
      "price:200\n",
      "Quantity:4\n"
     ]
    },
    {
     "data": {
      "text/plain": [
       "'The total cost is equal to 75300'"
      ]
     },
     "execution_count": 47,
     "metadata": {},
     "output_type": "execute_result"
    }
   ],
   "source": [
    "cart_product=[\n",
    "    {\"name\":\"Kodak\",\"price\":17500,\"Quantity\":1},\n",
    "    {\"name\":\"Realme\",\"price\":19000,\"Quantity\":3},\n",
    "    {\"name\":\"Mobile stand\",\"price\":200,\"Quantity\":4}\n",
    "]\n",
    "def checkout_cart(cart):\n",
    "    total_cost=[]\n",
    "    for index,cart_data in enumerate(cart):\n",
    "        for key,value in cart_data.items():\n",
    "            print(f\"{key}:{value}\")\n",
    "            total_cost.append(cart_product[index][\"price\"]*cart_product[index][\"Quantity\"])\n",
    "    return f\"The total cost is equal to {sum(list(set(total_cost)))}\"\n",
    "checkout_cart(cart_product)"
   ]
  },
  {
   "cell_type": "code",
   "execution_count": 58,
   "metadata": {},
   "outputs": [
    {
     "data": {
      "text/plain": [
       "True"
      ]
     },
     "execution_count": 58,
     "metadata": {},
     "output_type": "execute_result"
    }
   ],
   "source": [
    "## Check the string is palindrone\n",
    "\n",
    "def palindrom_checker(value):\n",
    "    s=value.lower().replace(\" \",\"\")    \n",
    "    return s==s[::-1]\n",
    "\n",
    "palindrom_checker(\"A man a plan a canal Panama\")"
   ]
  },
  {
   "cell_type": "code",
   "execution_count": 61,
   "metadata": {},
   "outputs": [
    {
     "data": {
      "text/plain": [
       "120"
      ]
     },
     "execution_count": 61,
     "metadata": {},
     "output_type": "execute_result"
    }
   ],
   "source": [
    "## Factorial \n",
    "\n",
    "def factorial(n):\n",
    "    if n>=1:\n",
    "        return n*factorial(n-1)\n",
    "    else:\n",
    "        return 1\n",
    "factorial(5)"
   ]
  },
  {
   "cell_type": "code",
   "execution_count": 84,
   "metadata": {},
   "outputs": [
    {
     "name": "stdout",
     "output_type": "stream",
     "text": [
      "{'H': 1, 'e': 1, 'l': 2, 'o': 2, ' ': 4, 'b': 1, 'h': 1, 'a': 3, 'i': 2, '\\n': 1, 'm': 2, 'f': 1, 'r': 1, 'I': 1, 'n': 1, 'd': 1}\n"
     ]
    }
   ],
   "source": [
    "## Read data from text and find the frequency of each word\n",
    "\n",
    "file=open(\"file_usable/sample.txt\",mode=\"r\")\n",
    "list_=[]\n",
    "def count_frequency(file):\n",
    "\n",
    "    for c_f in file:\n",
    "        for i in c_f:\n",
    "            list_.append(i)\n",
    "    dict_={y:list_.count(y) for y in list_}\n",
    "    print(dict_)\n",
    "count_frequency(file)\n"
   ]
  },
  {
   "cell_type": "code",
   "execution_count": null,
   "metadata": {},
   "outputs": [],
   "source": []
  }
 ],
 "metadata": {
  "kernelspec": {
   "display_name": "mlops_folder_udemy",
   "language": "python",
   "name": "python3"
  },
  "language_info": {
   "codemirror_mode": {
    "name": "ipython",
    "version": 3
   },
   "file_extension": ".py",
   "mimetype": "text/x-python",
   "name": "python",
   "nbconvert_exporter": "python",
   "pygments_lexer": "ipython3",
   "version": "3.12.3"
  }
 },
 "nbformat": 4,
 "nbformat_minor": 2
}
