{
 "cells": [
  {
   "cell_type": "markdown",
   "metadata": {},
   "source": [
    "## Functions\n",
    "\n",
    "A function is a block of code that performs a specific task.\n",
    "Function helps in organizing code,reusing code and improving readability."
   ]
  },
  {
   "cell_type": "code",
   "execution_count": 1,
   "metadata": {},
   "outputs": [
    {
     "data": {
      "text/plain": [
       "'\\n## syntax\\ndef function_name(parameters):\\n    \"\"\"Doc_string\"\"\"\\n    # Function body\\n    return expression\\n\\nfunction_name(argument)\\n'"
      ]
     },
     "execution_count": 1,
     "metadata": {},
     "output_type": "execute_result"
    }
   ],
   "source": [
    "'''\n",
    "## syntax\n",
    "def function_name(parameters):\n",
    "    \"\"\"Doc_string\"\"\"\n",
    "    # Function body\n",
    "    return expression\n",
    "\n",
    "function_name(argument)\n",
    "'''"
   ]
  },
  {
   "cell_type": "code",
   "execution_count": 2,
   "metadata": {},
   "outputs": [
    {
     "name": "stdout",
     "output_type": "stream",
     "text": [
      "The number is even\n"
     ]
    }
   ],
   "source": [
    "## Why functions?\n",
    "\n",
    "num=24\n",
    "if num%2==0:\n",
    "    print(\"The number is even\")\n",
    "else:\n",
    "    print(\"The number is odd\")"
   ]
  },
  {
   "cell_type": "code",
   "execution_count": 3,
   "metadata": {},
   "outputs": [
    {
     "name": "stdout",
     "output_type": "stream",
     "text": [
      "The number is even\n"
     ]
    }
   ],
   "source": [
    "def even_or_odd(num):\n",
    "    \"\"\"Check the number is even or odd...\"\"\"\n",
    "    if num%2==0:\n",
    "        print(\"The number is even\")\n",
    "    else:\n",
    "        print(\"The number is odd\")\n",
    "\n",
    "even_or_odd(num)"
   ]
  },
  {
   "cell_type": "code",
   "execution_count": 4,
   "metadata": {},
   "outputs": [
    {
     "name": "stdout",
     "output_type": "stream",
     "text": [
      "6\n"
     ]
    }
   ],
   "source": [
    "## function with multiple parameters\n",
    "\n",
    "def add(a,b):\n",
    "    return a+b\n",
    "\n",
    "result=add(2,4)\n",
    "print(result)"
   ]
  },
  {
   "cell_type": "code",
   "execution_count": 5,
   "metadata": {},
   "outputs": [
    {
     "name": "stdout",
     "output_type": "stream",
     "text": [
      "Hello Guest welcome to the paradise....\n"
     ]
    }
   ],
   "source": [
    "## Default parameters\n",
    "def greet(name=\"Guest\"):\n",
    "    print(f\"Hello {name} welcome to the paradise....\")\n",
    "greet()"
   ]
  },
  {
   "cell_type": "code",
   "execution_count": 7,
   "metadata": {},
   "outputs": [
    {
     "name": "stdout",
     "output_type": "stream",
     "text": [
      "5 6\n",
      "1\n",
      "2\n",
      "3\n",
      "4\n",
      "5\n",
      "6\n"
     ]
    }
   ],
   "source": [
    "## Variable Length arguments\n",
    "\n",
    "## Positional and keywords arguments\n",
    "## Positional arguments\n",
    "\n",
    "def print_numbers(*args):\n",
    "    print(args[4],args[-1])\n",
    "    for arg in args:\n",
    "        print(arg)\n",
    "print_numbers(1,2,3,4,5,6)"
   ]
  },
  {
   "cell_type": "code",
   "execution_count": 8,
   "metadata": {},
   "outputs": [],
   "source": [
    "## Keyword arguments\n",
    "def print_details(**kwargs):\n",
    "    \"\"\"All the values are in key and value pair\"\"\"\n",
    "    for key,value in kwargs.items():\n",
    "        print(f\"{key}:{value}\")"
   ]
  },
  {
   "cell_type": "code",
   "execution_count": 9,
   "metadata": {},
   "outputs": [
    {
     "name": "stdout",
     "output_type": "stream",
     "text": [
      "name:Kesavan\n",
      "age:20\n",
      "Address:Ponneri\n"
     ]
    }
   ],
   "source": [
    "print_details(name=\"Kesavan\",age=20,Address=\"Ponneri\")"
   ]
  },
  {
   "cell_type": "code",
   "execution_count": 6,
   "metadata": {},
   "outputs": [],
   "source": [
    "## Combination of positional and keyword argument\n",
    "def both_arguments(*args,**kwards):\n",
    "    for arg in args:\n",
    "        print(arg)\n",
    "    for key,value in kwards.items():\n",
    "        print(key,\"=>\",value)\n"
   ]
  },
  {
   "cell_type": "code",
   "execution_count": 9,
   "metadata": {},
   "outputs": [
    {
     "name": "stdout",
     "output_type": "stream",
     "text": [
      "1\n",
      "2\n",
      "423\n",
      "name => Ram\n"
     ]
    }
   ],
   "source": [
    "both_arguments(1,2,423,name=\"Ram\") ## **kwargs works only after *args"
   ]
  },
  {
   "cell_type": "code",
   "execution_count": 10,
   "metadata": {},
   "outputs": [
    {
     "data": {
      "text/plain": [
       "2"
      ]
     },
     "execution_count": 10,
     "metadata": {},
     "output_type": "execute_result"
    }
   ],
   "source": [
    "## Return statement\n",
    "def multiply(a,b):\n",
    "    return a*b\n",
    "\n",
    "multiply(1,2)"
   ]
  },
  {
   "cell_type": "code",
   "execution_count": 11,
   "metadata": {},
   "outputs": [
    {
     "data": {
      "text/plain": [
       "(2, 1)"
      ]
     },
     "execution_count": 11,
     "metadata": {},
     "output_type": "execute_result"
    }
   ],
   "source": [
    "## Return multiple statement\n",
    "def multiply(a,b):\n",
    "    return a*b,a\n",
    "\n",
    "multiply(1,2)"
   ]
  },
  {
   "cell_type": "code",
   "execution_count": null,
   "metadata": {},
   "outputs": [],
   "source": []
  }
 ],
 "metadata": {
  "kernelspec": {
   "display_name": "mlops_folder_udemy",
   "language": "python",
   "name": "python3"
  },
  "language_info": {
   "codemirror_mode": {
    "name": "ipython",
    "version": 3
   },
   "file_extension": ".py",
   "mimetype": "text/x-python",
   "name": "python",
   "nbconvert_exporter": "python",
   "pygments_lexer": "ipython3",
   "version": "3.12.3"
  }
 },
 "nbformat": 4,
 "nbformat_minor": 2
}
