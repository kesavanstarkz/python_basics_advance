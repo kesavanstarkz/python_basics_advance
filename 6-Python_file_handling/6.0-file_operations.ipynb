{
 "cells": [
  {
   "cell_type": "markdown",
   "metadata": {},
   "source": [
    "## File operations - Read and write"
   ]
  },
  {
   "cell_type": "code",
   "execution_count": 1,
   "metadata": {},
   "outputs": [
    {
     "name": "stdout",
     "output_type": "stream",
     "text": [
      "Hello how are you\n",
      "\n",
      "am good\n",
      "\n"
     ]
    }
   ],
   "source": [
    "with open(\"file_dir/example.txt\",mode=\"r\") as file:\n",
    "    content=file.read()\n",
    "    print(content)"
   ]
  },
  {
   "cell_type": "code",
   "execution_count": 5,
   "metadata": {},
   "outputs": [
    {
     "name": "stdout",
     "output_type": "stream",
     "text": [
      "Hello how are you\n",
      "am good\n"
     ]
    }
   ],
   "source": [
    "## read line by line\n",
    "with open(\"file_dir/example.txt\",mode=\"r\") as file:\n",
    "    for line in file:\n",
    "        print(line.strip()) ## removes new line"
   ]
  },
  {
   "cell_type": "code",
   "execution_count": 7,
   "metadata": {},
   "outputs": [],
   "source": [
    "## Writing a file (overwriting)\n",
    "with open(\"file_dir/example.txt\",mode=\"w\") as file:\n",
    "    file.write(\"Hello world\\n\")\n",
    "    file.write(\"Hello India\\n\")"
   ]
  },
  {
   "cell_type": "code",
   "execution_count": 8,
   "metadata": {},
   "outputs": [],
   "source": [
    "## Write a file without overwriting\n",
    "with open(\"file_dir/example.txt\",mode=\"a\") as file:\n",
    "    file.write(\"Append operation taking place\")"
   ]
  },
  {
   "cell_type": "code",
   "execution_count": 10,
   "metadata": {},
   "outputs": [],
   "source": [
    "## Writing a list of lines to a file\n",
    "lines=['\\nfirst line\\n','second line\\n','third line']\n",
    "with open(\"file_dir/example.txt\",mode=\"a\") as file:\n",
    "    file.writelines(lines)"
   ]
  },
  {
   "cell_type": "code",
   "execution_count": 3,
   "metadata": {},
   "outputs": [],
   "source": [
    "## binary files\n",
    "\n",
    "data=b'\\x00\\x01\\x02\\x03\\x04'\n",
    "with open(\"file_dir/example.bin\",mode='wb') as file:\n",
    "    file.write(data)"
   ]
  },
  {
   "cell_type": "code",
   "execution_count": 8,
   "metadata": {},
   "outputs": [
    {
     "name": "stdout",
     "output_type": "stream",
     "text": [
      "b''\n"
     ]
    }
   ],
   "source": [
    "with open(\"file_dir/example.bin\",mode='rb') as file:\n",
    "    content=file.read()\n",
    "    print(content)"
   ]
  },
  {
   "cell_type": "code",
   "execution_count": 17,
   "metadata": {},
   "outputs": [
    {
     "name": "stdout",
     "output_type": "stream",
     "text": [
      "Hello world\n",
      "Hello India\n",
      "Append operation taking placefirst line\n",
      "second line\n",
      "third line\n",
      "first line\n",
      "second line\n",
      "third line\n"
     ]
    }
   ],
   "source": [
    "with open(\"file_dir/example.txt\",\"r\") as source:\n",
    "    content=source.read()\n",
    "    print(content) "
   ]
  },
  {
   "cell_type": "code",
   "execution_count": 18,
   "metadata": {},
   "outputs": [],
   "source": [
    "with open(\"file_dir/destination_example.txt\",mode=\"w\") as destination:\n",
    "    destination.write(content)\n"
   ]
  },
  {
   "cell_type": "code",
   "execution_count": 19,
   "metadata": {},
   "outputs": [],
   "source": [
    "## Cell for assignment"
   ]
  },
  {
   "cell_type": "code",
   "execution_count": 24,
   "metadata": {},
   "outputs": [
    {
     "name": "stdout",
     "output_type": "stream",
     "text": [
      "hello world\n",
      "hello python\n",
      "\n"
     ]
    }
   ],
   "source": [
    "### Writing and then reading a file\n",
    "\n",
    "\n",
    "with open('file_dir/example.txt','w+') as file:\n",
    "    file.write(\"hello world\\n\")\n",
    "    file.write(\"hello python\\n\")\n",
    "\n",
    "    ## For reading purpose we have to move the cursor\n",
    "    file.seek(0)\n",
    "\n",
    "    ## Reading the content from the file\n",
    "    print(file.read())"
   ]
  }
 ],
 "metadata": {
  "kernelspec": {
   "display_name": "mlops_folder_udemy",
   "language": "python",
   "name": "python3"
  },
  "language_info": {
   "codemirror_mode": {
    "name": "ipython",
    "version": 3
   },
   "file_extension": ".py",
   "mimetype": "text/x-python",
   "name": "python",
   "nbconvert_exporter": "python",
   "pygments_lexer": "ipython3",
   "version": "3.12.3"
  }
 },
 "nbformat": 4,
 "nbformat_minor": 2
}
