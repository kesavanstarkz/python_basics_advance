{
 "cells": [
  {
   "cell_type": "markdown",
   "metadata": {},
   "source": [
    "## Syntax and Semantics in Python\n",
    "\n",
    "Syntax -- Correct of arragements of words in code\n",
    "\n",
    "Semantics -- Task we trying to do\n",
    "\n",
    "*Create environment*: https://docs.python.org/3/library/venv.html"
   ]
  },
  {
   "cell_type": "code",
   "execution_count": 1,
   "metadata": {},
   "outputs": [],
   "source": [
    "## Single line comments"
   ]
  },
  {
   "cell_type": "code",
   "execution_count": 3,
   "metadata": {},
   "outputs": [
    {
     "data": {
      "text/plain": [
       "\"\\nMulti line comments are on the way\\nwe can use multi line comments are useful\\nwhen you are willing to give some extra information\\nmore than one line\\nbut actually multiline comments doesn't works in \\nipynb file\\n\""
      ]
     },
     "execution_count": 3,
     "metadata": {},
     "output_type": "execute_result"
    }
   ],
   "source": [
    "'''\n",
    "Multi line comments are on the way\n",
    "we can use multi line comments are useful\n",
    "when you are willing to give some extra information\n",
    "more than one line\n",
    "but actually multiline comments doesn't works in \n",
    "ipynb file\n",
    "'''"
   ]
  },
  {
   "cell_type": "code",
   "execution_count": 4,
   "metadata": {},
   "outputs": [
    {
     "name": "stdout",
     "output_type": "stream",
     "text": [
      "Kesavan\n",
      "M\n"
     ]
    }
   ],
   "source": [
    "## Case sensitivity\n",
    "name=\"Kesavan\"\n",
    "Name=\"M\"\n",
    "print(name)\n",
    "print(Name)"
   ]
  },
  {
   "cell_type": "code",
   "execution_count": 8,
   "metadata": {},
   "outputs": [
    {
     "name": "stdout",
     "output_type": "stream",
     "text": [
      "Age is greater than 30: 32\n",
      "32\n"
     ]
    }
   ],
   "source": [
    "## Intentation\n",
    "## Helps us to define a block of code\n",
    "\n",
    "age=32\n",
    "if age>30:\n",
    "    print(\"Age is greater than 30:\",age)\n",
    "else:\n",
    "    print(\"Age is lesser than 30:\")\n",
    "print(age)"
   ]
  },
  {
   "cell_type": "code",
   "execution_count": 9,
   "metadata": {},
   "outputs": [
    {
     "name": "stdout",
     "output_type": "stream",
     "text": [
      "67\n"
     ]
    }
   ],
   "source": [
    "## Line continuation\n",
    "## Use(\\) for line continuation\n",
    "\n",
    "addition=3+4+4+1+3+\\\n",
    "3+4+45\n",
    "print(addition)"
   ]
  },
  {
   "cell_type": "code",
   "execution_count": 10,
   "metadata": {},
   "outputs": [
    {
     "name": "stdout",
     "output_type": "stream",
     "text": [
      "42\n"
     ]
    }
   ],
   "source": [
    "## Multi statements in single line\n",
    "x=12;y=30;z=x+y\n",
    "print(z)"
   ]
  },
  {
   "cell_type": "code",
   "execution_count": 11,
   "metadata": {},
   "outputs": [],
   "source": [
    "## Understanding the sematics\n",
    "\n",
    "name=\"Kesavan\" ## String\n",
    "age=21 ## Integer"
   ]
  },
  {
   "cell_type": "code",
   "execution_count": 13,
   "metadata": {},
   "outputs": [
    {
     "data": {
      "text/plain": [
       "int"
      ]
     },
     "execution_count": 13,
     "metadata": {},
     "output_type": "execute_result"
    }
   ],
   "source": [
    "## Finding the type\n",
    "type(age)"
   ]
  },
  {
   "cell_type": "code",
   "execution_count": 14,
   "metadata": {},
   "outputs": [
    {
     "name": "stdout",
     "output_type": "stream",
     "text": [
      "<class 'int'>\n",
      "<class 'str'>\n"
     ]
    }
   ],
   "source": [
    "## Type inference\n",
    "var=24\n",
    "print(type(var))\n",
    "var=\"Krish\"\n",
    "print(type(var))"
   ]
  },
  {
   "cell_type": "code",
   "execution_count": null,
   "metadata": {},
   "outputs": [],
   "source": []
  }
 ],
 "metadata": {
  "kernelspec": {
   "display_name": "mlops_folder_udemy",
   "language": "python",
   "name": "python3"
  },
  "language_info": {
   "codemirror_mode": {
    "name": "ipython",
    "version": 3
   },
   "file_extension": ".py",
   "mimetype": "text/x-python",
   "name": "python",
   "nbconvert_exporter": "python",
   "pygments_lexer": "ipython3",
   "version": "3.12.3"
  }
 },
 "nbformat": 4,
 "nbformat_minor": 2
}
