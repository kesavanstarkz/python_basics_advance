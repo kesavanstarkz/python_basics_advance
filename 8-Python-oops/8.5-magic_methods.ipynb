{
 "cells": [
  {
   "cell_type": "markdown",
   "metadata": {},
   "source": [
    "## Magic methods\n",
    "\n",
    "In Python magic methods are also known as dunder methods (double underscore methods), are special methods that start and end with double underscores.\n",
    "\n",
    "These methods enables you to define a behaviour of objects for build-in operations,\n",
    "\n",
    "* Arithmetic operations\n",
    "* Comparisions\n",
    "* and More...."
   ]
  },
  {
   "cell_type": "code",
   "execution_count": 2,
   "metadata": {},
   "outputs": [
    {
     "data": {
      "text/plain": [
       "'\\n__init__: Initializes a new instance of class\\n__str__: Returns string representation of object\\n__repr__: Returns official string representation of object\\n__len__: Returns length of object\\n__getitem__: Gets an item from a container\\n__setitem__: Sets an item from a container\\n'"
      ]
     },
     "execution_count": 2,
     "metadata": {},
     "output_type": "execute_result"
    }
   ],
   "source": [
    "\"\"\"\n",
    "__init__: Initializes a new instance of class\n",
    "__str__: Returns string representation of object\n",
    "__repr__: Returns official string representation of object\n",
    "__len__: Returns length of object\n",
    "__getitem__: Gets an item from a container\n",
    "__setitem__: Sets an item from a container\n",
    "\"\"\""
   ]
  },
  {
   "cell_type": "code",
   "execution_count": 3,
   "metadata": {},
   "outputs": [
    {
     "data": {
      "text/plain": [
       "['__class__',\n",
       " '__delattr__',\n",
       " '__dict__',\n",
       " '__dir__',\n",
       " '__doc__',\n",
       " '__eq__',\n",
       " '__format__',\n",
       " '__ge__',\n",
       " '__getattribute__',\n",
       " '__getstate__',\n",
       " '__gt__',\n",
       " '__hash__',\n",
       " '__init__',\n",
       " '__init_subclass__',\n",
       " '__le__',\n",
       " '__lt__',\n",
       " '__module__',\n",
       " '__ne__',\n",
       " '__new__',\n",
       " '__reduce__',\n",
       " '__reduce_ex__',\n",
       " '__repr__',\n",
       " '__setattr__',\n",
       " '__sizeof__',\n",
       " '__str__',\n",
       " '__subclasshook__',\n",
       " '__weakref__']"
      ]
     },
     "execution_count": 3,
     "metadata": {},
     "output_type": "execute_result"
    }
   ],
   "source": [
    "class Person:\n",
    "    pass\n",
    "\n",
    "person=Person()\n",
    "dir(person)"
   ]
  },
  {
   "cell_type": "code",
   "execution_count": 4,
   "metadata": {},
   "outputs": [
    {
     "name": "stdout",
     "output_type": "stream",
     "text": [
      "<__main__.Person object at 0x7782f4f3df70>\n"
     ]
    }
   ],
   "source": [
    "print(person) ## __str__ print this "
   ]
  },
  {
   "cell_type": "code",
   "execution_count": 5,
   "metadata": {},
   "outputs": [
    {
     "name": "stdout",
     "output_type": "stream",
     "text": [
      "<__main__.Person object at 0x7782f4f44d70>\n"
     ]
    }
   ],
   "source": [
    "## basic method\n",
    "class Person:\n",
    "    def __init__(self,name,age) -> None:\n",
    "        self.name=name\n",
    "        self.age=age\n",
    "\n",
    "person=Person(\"Kesavan\",20)\n",
    "print(person)"
   ]
  },
  {
   "cell_type": "code",
   "execution_count": 11,
   "metadata": {},
   "outputs": [
    {
     "name": "stdout",
     "output_type": "stream",
     "text": [
      "name=(Kesavan),20 years old\n"
     ]
    }
   ],
   "source": [
    "## Str method\n",
    "class Person:\n",
    "    def __init__(self,name,age) -> None:\n",
    "        self.name=name\n",
    "        self.age=age\n",
    "    def __str__(self):\n",
    "        return f\"{self.name},{self.age} years old\"\n",
    "    def __repr__(self) -> str:\n",
    "        return f\"Person(name={self.name},age={self.age})\"\n",
    "\n",
    "person=Person(\"Kesavan\",20)\n",
    "print(person)"
   ]
  },
  {
   "cell_type": "code",
   "execution_count": 10,
   "metadata": {},
   "outputs": [
    {
     "name": "stdout",
     "output_type": "stream",
     "text": [
      "Person(name=Kesavan,age=20)\n"
     ]
    }
   ],
   "source": [
    "print(repr(person))"
   ]
  },
  {
   "cell_type": "code",
   "execution_count": 2,
   "metadata": {},
   "outputs": [
    {
     "data": {
      "text/plain": [
       "'\\n__add__(self,other): Add two number using + operator\\n__sub__(self,other): Subtracts two number using - operator\\n__mul__(self,other): Multiplies two number using * operator\\n__truediv__(self,other): Divides two number using / operator\\n__eq__: Checks two number are equal using the == operator\\n__lt__: Checks one no is lesser than other using the < operator\\n__gt__: Checks one no is greater than other using the < operator\\n'"
      ]
     },
     "execution_count": 2,
     "metadata": {},
     "output_type": "execute_result"
    }
   ],
   "source": [
    "## Operation overloading\n",
    "\n",
    "\"\"\"\n",
    "__add__(self,other): Add two number using + operator\n",
    "__sub__(self,other): Subtracts two number using - operator\n",
    "__mul__(self,other): Multiplies two number using * operator\n",
    "__truediv__(self,other): Divides two number using / operator\n",
    "__eq__: Checks two number are equal using the == operator\n",
    "__lt__: Checks one no is lesser than other using the < operator\n",
    "__gt__: Checks one no is greater than other using the < operator\n",
    "\"\"\""
   ]
  },
  {
   "cell_type": "code",
   "execution_count": 9,
   "metadata": {},
   "outputs": [],
   "source": [
    "class Vector:\n",
    "    def __init__(self,x,y):\n",
    "        self.x=x\n",
    "        self.y=y\n",
    "    def __add__(self,other):\n",
    "        return Vector(self.x+other.x,self.y+other.y)\n",
    "    def __sub__(self,other):\n",
    "        return Vector(self.x-other.x,self.y-other.y)\n",
    "    def __mul__(self,other):\n",
    "        return Vector(self.x*other.x,self.y*other.y)\n",
    "    def __eq__(self,other):\n",
    "        return Vector(self.x==other.x and self.y==other.y)\n",
    "    def __repr__(self) -> str:\n",
    "        return f\"Vector {self.x},{self.y}\""
   ]
  },
  {
   "cell_type": "code",
   "execution_count": 12,
   "metadata": {},
   "outputs": [
    {
     "name": "stdout",
     "output_type": "stream",
     "text": [
      "Vector 8,10\n",
      "Vector -4,-4\n"
     ]
    }
   ],
   "source": [
    "## Objects of vector class\n",
    "v1=Vector(2,3)\n",
    "v2=Vector(6,7)\n",
    "\n",
    "print(v1+v2)\n",
    "print(v1-v2)"
   ]
  },
  {
   "cell_type": "code",
   "execution_count": null,
   "metadata": {},
   "outputs": [],
   "source": []
  }
 ],
 "metadata": {
  "kernelspec": {
   "display_name": "mlops_folder_udemy",
   "language": "python",
   "name": "python3"
  },
  "language_info": {
   "codemirror_mode": {
    "name": "ipython",
    "version": 3
   },
   "file_extension": ".py",
   "mimetype": "text/x-python",
   "name": "python",
   "nbconvert_exporter": "python",
   "pygments_lexer": "ipython3",
   "version": "3.12.3"
  }
 },
 "nbformat": 4,
 "nbformat_minor": 2
}
