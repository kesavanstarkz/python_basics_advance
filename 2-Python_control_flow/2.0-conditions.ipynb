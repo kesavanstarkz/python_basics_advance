{
 "cells": [
  {
   "cell_type": "markdown",
   "metadata": {},
   "source": [
    "## Conditions statements\n",
    "\n",
    "1. If\n",
    "2. Elif\n",
    "3. Else\n",
    "\n",
    "1. Nested Condition statements"
   ]
  },
  {
   "cell_type": "code",
   "execution_count": 1,
   "metadata": {},
   "outputs": [
    {
     "name": "stdout",
     "output_type": "stream",
     "text": [
      "You are allowed to vote in the election\n"
     ]
    }
   ],
   "source": [
    "## If Statements\n",
    "age=20\n",
    "\n",
    "if age>=18:\n",
    "    print(\"You are allowed to vote in the election\")"
   ]
  },
  {
   "cell_type": "code",
   "execution_count": 2,
   "metadata": {},
   "outputs": [
    {
     "name": "stdout",
     "output_type": "stream",
     "text": [
      "You are not allowed to enter into children park\n"
     ]
    }
   ],
   "source": [
    "## Else Statements\n",
    "\n",
    "if age<=18:\n",
    "    print(\"You are allowed to enter into children park\")\n",
    "else:\n",
    "    print(\"You are not allowed to enter into children park\")"
   ]
  },
  {
   "cell_type": "code",
   "execution_count": 3,
   "metadata": {},
   "outputs": [
    {
     "name": "stdout",
     "output_type": "stream",
     "text": [
      "Passed and Distinction\n"
     ]
    }
   ],
   "source": [
    "## Elif Statements\n",
    "## Allow you to check multiple conditions.\n",
    "\n",
    "mark=91\n",
    "if mark>35 and mark<=90:\n",
    "    print(\"Passed\")\n",
    "elif mark>=91 and mark<=100:\n",
    "    print(\"Passed and Distinction\")\n",
    "else:\n",
    "    print(\"Failed or invalid data\")"
   ]
  },
  {
   "cell_type": "code",
   "execution_count": 2,
   "metadata": {},
   "outputs": [
    {
     "name": "stdout",
     "output_type": "stream",
     "text": [
      "The number is negative\n",
      "The number is negative even\n"
     ]
    }
   ],
   "source": [
    "## Nested conditional statements\n",
    "## You an place one or more if/elif and else inside another if/elif/else statement\n",
    "\n",
    "number=int(input(\"Enter the number:\"))\n",
    "if number>=0:\n",
    "    print(\"The number is positive\")\n",
    "    if number%2==0:\n",
    "        print(\"The number is even\")\n",
    "    else:\n",
    "        print(\"The number is odd\")\n",
    "else:\n",
    "    print(\"The number is negative\")\n",
    "    if number%2==0:\n",
    "        print(\"The number is negative even\")\n",
    "    else:\n",
    "        print(\"The number is positive even\")"
   ]
  },
  {
   "cell_type": "code",
   "execution_count": 4,
   "metadata": {},
   "outputs": [
    {
     "name": "stdout",
     "output_type": "stream",
     "text": [
      "Year is not leap year\n"
     ]
    }
   ],
   "source": [
    "## Check the year is leap year or not\n",
    "\n",
    "year=int(input(\"Enter the year:\"))\n",
    "\n",
    "if year%4==0:\n",
    "    if year%100==0:\n",
    "        if year%400==0:\n",
    "            print(\"Year is leap year\")\n",
    "        else:\n",
    "            print(\"Year is not leap year\")\n",
    "    else:\n",
    "        print(\"Year is leap year\")\n",
    "else:\n",
    "    print(\"Year is not leap year\")    "
   ]
  },
  {
   "cell_type": "code",
   "execution_count": null,
   "metadata": {},
   "outputs": [],
   "source": []
  }
 ],
 "metadata": {
  "kernelspec": {
   "display_name": "mlops_folder_udemy",
   "language": "python",
   "name": "python3"
  },
  "language_info": {
   "codemirror_mode": {
    "name": "ipython",
    "version": 3
   },
   "file_extension": ".py",
   "mimetype": "text/x-python",
   "name": "python",
   "nbconvert_exporter": "python",
   "pygments_lexer": "ipython3",
   "version": "3.12.3"
  }
 },
 "nbformat": 4,
 "nbformat_minor": 2
}
